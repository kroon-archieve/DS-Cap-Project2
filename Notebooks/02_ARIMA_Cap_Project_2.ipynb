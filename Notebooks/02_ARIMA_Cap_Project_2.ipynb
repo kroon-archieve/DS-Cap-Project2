{
 "cells": [
  {
   "cell_type": "markdown",
   "id": "executive-privilege",
   "metadata": {
    "id": "widespread-positive"
   },
   "source": [
    "## Capstone Project 2: 재고 관리를 위한 단기(6개월) 수요 예측 모델 생성\n",
    "\n",
    "### Part 2. ARIMA 모델"
   ]
  },
  {
   "cell_type": "markdown",
   "id": "romantic-settle",
   "metadata": {
    "id": "upset-parliament"
   },
   "source": [
    "### 사용 데이터셋\n",
    "\n",
    "> Forecasts for Product Demand: Make Accurate Forecasts for Thousands of Different Products\n",
    "> - FelixZhao. kaggle. https://www.kaggle.com/felixzhao/productdemandforecasting\n",
    "> - License: GPL 2"
   ]
  },
  {
   "cell_type": "markdown",
   "id": "consolidated-gender",
   "metadata": {
    "id": "corporate-california"
   },
   "source": [
    "### 1. 데이터 준비"
   ]
  },
  {
   "cell_type": "code",
   "execution_count": 1,
   "id": "entire-weekly",
   "metadata": {
    "id": "sufficient-optimum"
   },
   "outputs": [],
   "source": [
    "import pandas as pd\n",
    "import numpy as np\n",
    "import itertools\n",
    "from statsmodels.tsa.stattools import adfuller\n",
    "from statsmodels.graphics.tsaplots import plot_acf, plot_pacf\n",
    "from statsmodels.tsa.arima_model import ARIMA\n",
    "import matplotlib.pyplot as plt\n",
    "\n",
    "import warnings\n",
    "warnings.filterwarnings(\"ignore\")"
   ]
  },
  {
   "cell_type": "code",
   "execution_count": 2,
   "id": "played-consortium",
   "metadata": {
    "colab": {
     "base_uri": "https://localhost:8080/",
     "height": 142
    },
    "id": "driven-arrest",
    "outputId": "ea59e60e-481a-41ef-a466-c8b786e576b9"
   },
   "outputs": [
    {
     "data": {
      "text/html": [
       "<div>\n",
       "<style scoped>\n",
       "    .dataframe tbody tr th:only-of-type {\n",
       "        vertical-align: middle;\n",
       "    }\n",
       "\n",
       "    .dataframe tbody tr th {\n",
       "        vertical-align: top;\n",
       "    }\n",
       "\n",
       "    .dataframe thead th {\n",
       "        text-align: right;\n",
       "    }\n",
       "</style>\n",
       "<table border=\"1\" class=\"dataframe\">\n",
       "  <thead>\n",
       "    <tr style=\"text-align: right;\">\n",
       "      <th></th>\n",
       "      <th>product_code</th>\n",
       "      <th>product_category</th>\n",
       "      <th>date</th>\n",
       "      <th>order_demand</th>\n",
       "      <th>year</th>\n",
       "      <th>month</th>\n",
       "      <th>quarter</th>\n",
       "      <th>YM</th>\n",
       "      <th>YQ</th>\n",
       "    </tr>\n",
       "  </thead>\n",
       "  <tbody>\n",
       "    <tr>\n",
       "      <th>0</th>\n",
       "      <td>993</td>\n",
       "      <td>28</td>\n",
       "      <td>2012-01-19</td>\n",
       "      <td>100</td>\n",
       "      <td>2012</td>\n",
       "      <td>1</td>\n",
       "      <td>1</td>\n",
       "      <td>2012-01</td>\n",
       "      <td>2012-1</td>\n",
       "    </tr>\n",
       "    <tr>\n",
       "      <th>1</th>\n",
       "      <td>993</td>\n",
       "      <td>28</td>\n",
       "      <td>2012-02-08</td>\n",
       "      <td>100</td>\n",
       "      <td>2012</td>\n",
       "      <td>2</td>\n",
       "      <td>1</td>\n",
       "      <td>2012-02</td>\n",
       "      <td>2012-1</td>\n",
       "    </tr>\n",
       "    <tr>\n",
       "      <th>2</th>\n",
       "      <td>993</td>\n",
       "      <td>28</td>\n",
       "      <td>2012-02-22</td>\n",
       "      <td>100</td>\n",
       "      <td>2012</td>\n",
       "      <td>2</td>\n",
       "      <td>1</td>\n",
       "      <td>2012-02</td>\n",
       "      <td>2012-1</td>\n",
       "    </tr>\n",
       "  </tbody>\n",
       "</table>\n",
       "</div>"
      ],
      "text/plain": [
       "   product_code  product_category        date  order_demand  year  month  \\\n",
       "0           993                28  2012-01-19           100  2012      1   \n",
       "1           993                28  2012-02-08           100  2012      2   \n",
       "2           993                28  2012-02-22           100  2012      2   \n",
       "\n",
       "   quarter       YM      YQ  \n",
       "0        1  2012-01  2012-1  \n",
       "1        1  2012-02  2012-1  \n",
       "2        1  2012-02  2012-1  "
      ]
     },
     "execution_count": 2,
     "metadata": {},
     "output_type": "execute_result"
    }
   ],
   "source": [
    "# 데이터 불러오기\n",
    "df = pd.read_csv('Historical_Data_After.csv')\n",
    "df = df.drop(['Unnamed: 0'], axis=1)\n",
    "df.head(3)"
   ]
  },
  {
   "cell_type": "code",
   "execution_count": 3,
   "id": "inner-participant",
   "metadata": {
    "colab": {
     "base_uri": "https://localhost:8080/",
     "height": 278
    },
    "id": "careful-sodium",
    "outputId": "08b14599-6a58-4229-e62d-99f9252da640"
   },
   "outputs": [
    {
     "data": {
      "text/html": [
       "<div>\n",
       "<style scoped>\n",
       "    .dataframe tbody tr th:only-of-type {\n",
       "        vertical-align: middle;\n",
       "    }\n",
       "\n",
       "    .dataframe tbody tr th {\n",
       "        vertical-align: top;\n",
       "    }\n",
       "\n",
       "    .dataframe thead th {\n",
       "        text-align: right;\n",
       "    }\n",
       "</style>\n",
       "<table border=\"1\" class=\"dataframe\">\n",
       "  <thead>\n",
       "    <tr style=\"text-align: right;\">\n",
       "      <th></th>\n",
       "      <th>1</th>\n",
       "      <th>3</th>\n",
       "      <th>5</th>\n",
       "      <th>6</th>\n",
       "      <th>7</th>\n",
       "      <th>8</th>\n",
       "      <th>9</th>\n",
       "      <th>10</th>\n",
       "      <th>11</th>\n",
       "      <th>13</th>\n",
       "      <th>...</th>\n",
       "      <th>22</th>\n",
       "      <th>23</th>\n",
       "      <th>24</th>\n",
       "      <th>26</th>\n",
       "      <th>28</th>\n",
       "      <th>29</th>\n",
       "      <th>30</th>\n",
       "      <th>31</th>\n",
       "      <th>32</th>\n",
       "      <th>33</th>\n",
       "    </tr>\n",
       "    <tr>\n",
       "      <th>date</th>\n",
       "      <th></th>\n",
       "      <th></th>\n",
       "      <th></th>\n",
       "      <th></th>\n",
       "      <th></th>\n",
       "      <th></th>\n",
       "      <th></th>\n",
       "      <th></th>\n",
       "      <th></th>\n",
       "      <th></th>\n",
       "      <th></th>\n",
       "      <th></th>\n",
       "      <th></th>\n",
       "      <th></th>\n",
       "      <th></th>\n",
       "      <th></th>\n",
       "      <th></th>\n",
       "      <th></th>\n",
       "      <th></th>\n",
       "      <th></th>\n",
       "      <th></th>\n",
       "    </tr>\n",
       "  </thead>\n",
       "  <tbody>\n",
       "    <tr>\n",
       "      <th>2012-01-01</th>\n",
       "      <td>0.0</td>\n",
       "      <td>0.0</td>\n",
       "      <td>0.0</td>\n",
       "      <td>0.0</td>\n",
       "      <td>0.0</td>\n",
       "      <td>0.0</td>\n",
       "      <td>0.0</td>\n",
       "      <td>0.0</td>\n",
       "      <td>0.0</td>\n",
       "      <td>0.0</td>\n",
       "      <td>...</td>\n",
       "      <td>0.0</td>\n",
       "      <td>0.0</td>\n",
       "      <td>2.0</td>\n",
       "      <td>0.0</td>\n",
       "      <td>0.0</td>\n",
       "      <td>0.0</td>\n",
       "      <td>0.0</td>\n",
       "      <td>0.0</td>\n",
       "      <td>0.0</td>\n",
       "      <td>0.0</td>\n",
       "    </tr>\n",
       "    <tr>\n",
       "      <th>2012-01-02</th>\n",
       "      <td>107.0</td>\n",
       "      <td>0.0</td>\n",
       "      <td>3500.0</td>\n",
       "      <td>13000.0</td>\n",
       "      <td>0.0</td>\n",
       "      <td>0.0</td>\n",
       "      <td>0.0</td>\n",
       "      <td>0.0</td>\n",
       "      <td>25.0</td>\n",
       "      <td>0.0</td>\n",
       "      <td>...</td>\n",
       "      <td>0.0</td>\n",
       "      <td>0.0</td>\n",
       "      <td>55.0</td>\n",
       "      <td>0.0</td>\n",
       "      <td>0.0</td>\n",
       "      <td>0.0</td>\n",
       "      <td>9000.0</td>\n",
       "      <td>0.0</td>\n",
       "      <td>540.0</td>\n",
       "      <td>0.0</td>\n",
       "    </tr>\n",
       "    <tr>\n",
       "      <th>2012-01-03</th>\n",
       "      <td>25.0</td>\n",
       "      <td>0.0</td>\n",
       "      <td>33600.0</td>\n",
       "      <td>72400.0</td>\n",
       "      <td>6952.0</td>\n",
       "      <td>0.0</td>\n",
       "      <td>1576.0</td>\n",
       "      <td>0.0</td>\n",
       "      <td>151.0</td>\n",
       "      <td>0.0</td>\n",
       "      <td>...</td>\n",
       "      <td>62.0</td>\n",
       "      <td>170.0</td>\n",
       "      <td>1058.0</td>\n",
       "      <td>114.0</td>\n",
       "      <td>8053.0</td>\n",
       "      <td>0.0</td>\n",
       "      <td>18600.0</td>\n",
       "      <td>10.0</td>\n",
       "      <td>36.0</td>\n",
       "      <td>0.0</td>\n",
       "    </tr>\n",
       "  </tbody>\n",
       "</table>\n",
       "<p>3 rows × 26 columns</p>\n",
       "</div>"
      ],
      "text/plain": [
       "               1    3        5        6       7    8       9    10     11  \\\n",
       "date                                                                        \n",
       "2012-01-01    0.0  0.0      0.0      0.0     0.0  0.0     0.0  0.0    0.0   \n",
       "2012-01-02  107.0  0.0   3500.0  13000.0     0.0  0.0     0.0  0.0   25.0   \n",
       "2012-01-03   25.0  0.0  33600.0  72400.0  6952.0  0.0  1576.0  0.0  151.0   \n",
       "\n",
       "             13  ...    22     23      24     26      28   29       30    31  \\\n",
       "date             ...                                                           \n",
       "2012-01-01  0.0  ...   0.0    0.0     2.0    0.0     0.0  0.0      0.0   0.0   \n",
       "2012-01-02  0.0  ...   0.0    0.0    55.0    0.0     0.0  0.0   9000.0   0.0   \n",
       "2012-01-03  0.0  ...  62.0  170.0  1058.0  114.0  8053.0  0.0  18600.0  10.0   \n",
       "\n",
       "               32   33  \n",
       "date                    \n",
       "2012-01-01    0.0  0.0  \n",
       "2012-01-02  540.0  0.0  \n",
       "2012-01-03   36.0  0.0  \n",
       "\n",
       "[3 rows x 26 columns]"
      ]
     },
     "execution_count": 3,
     "metadata": {},
     "output_type": "execute_result"
    }
   ],
   "source": [
    "temp = pd.pivot_table(df, values='order_demand', index=['date'], columns=['product_category'], aggfunc=np.sum).fillna(0)\n",
    "temp.columns = list(temp.columns)\n",
    "temp.head(3)"
   ]
  },
  {
   "cell_type": "markdown",
   "id": "metallic-embassy",
   "metadata": {
    "id": "grand-overhead"
   },
   "source": [
    "ARIMA 모델을 사용해서 일별 수요량을 예측하기 위해서는 daily data가 필요하다. 하지만 매일 주문이 들어오지 않을 수도 있기 때문에 모든 날짜에 대한 주문 기록이 있는 건 아니다. 따라서, 2012년 1월 1일부터 2016년 12월 31일까지 중에서 비어있는 날짜에 대한 주문량을 0으로 한 주문 기록을 생성하여야 한다."
   ]
  },
  {
   "cell_type": "code",
   "execution_count": 4,
   "id": "expressed-chile",
   "metadata": {
    "id": "limiting-branch"
   },
   "outputs": [],
   "source": [
    "day_list = []\n",
    "\n",
    "def make_month_day(month, last_day):\n",
    "    global day_list\n",
    "\n",
    "    # 월 표기를 01로 변경\n",
    "    if len(str(month)) == 1:\n",
    "        month = '0'+str(month)\n",
    "\n",
    "    # 일 표기 추가\n",
    "    for day in range(1, last_day):\n",
    "        if len(str(day)) == 1:\n",
    "            day = '0'+str(day)\n",
    "\n",
    "        temp_date = year + '-' + str(month) + '-' + str(day)\n",
    "        day_list.append(temp_date)"
   ]
  },
  {
   "cell_type": "code",
   "execution_count": 5,
   "id": "structured-seven",
   "metadata": {
    "colab": {
     "base_uri": "https://localhost:8080/"
    },
    "id": "leading-interest",
    "outputId": "7556fcee-eb15-4948-85b1-a1ccb90d8bf9"
   },
   "outputs": [
    {
     "name": "stdout",
     "output_type": "stream",
     "text": [
      "1827\n"
     ]
    }
   ],
   "source": [
    "for year in ['2012', '2013', '2014', '2015', '2016']:\n",
    "    for month in range(1, 13):\n",
    "        \n",
    "        # 31일까지 있는 달\n",
    "        if month in [1, 3, 5, 7, 8, 10, 12]:\n",
    "            make_month_day(month, 32)\n",
    "        \n",
    "        # 30일까지 있는 달\n",
    "        elif month in [4, 6, 9, 11]:\n",
    "            make_month_day(month, 31)\n",
    "                \n",
    "        else:\n",
    "            month = '02'\n",
    "            \n",
    "            # 29일까지 있는 달\n",
    "            if (year == '2012') or (year == '2016'):\n",
    "                make_month_day(month, 30)\n",
    "                \n",
    "            # 28일까지 있는 달\n",
    "            else:\n",
    "                make_month_day(month, 29)\n",
    "\n",
    "day_list = set(day_list)\n",
    "\n",
    "print(len(day_list))"
   ]
  },
  {
   "cell_type": "code",
   "execution_count": 6,
   "id": "liked-pierre",
   "metadata": {
    "colab": {
     "base_uri": "https://localhost:8080/"
    },
    "id": "restricted-teddy",
    "outputId": "713aac92-a007-4a7a-81e6-4e7d28e81aa5"
   },
   "outputs": [
    {
     "name": "stdout",
     "output_type": "stream",
     "text": [
      "147\n",
      "(1827, 26)\n"
     ]
    }
   ],
   "source": [
    "# 빈 날짜 목록 생성\n",
    "temp_index = set(temp.index)\n",
    "need = day_list - temp_index\n",
    "print(len(need))\n",
    "\n",
    "# 빈 날짜의 수요량은 0로 채우기\n",
    "for idx in list(need):\n",
    "    temp.loc[idx] = 0\n",
    "\n",
    "temp = temp.sort_index()\n",
    "\n",
    "# 확인\n",
    "print(temp.shape)"
   ]
  },
  {
   "cell_type": "code",
   "execution_count": 7,
   "id": "contrary-northern",
   "metadata": {
    "colab": {
     "base_uri": "https://localhost:8080/",
     "height": 252
    },
    "id": "quarterly-technical",
    "outputId": "d415ad64-afdc-4d97-ac70-110d317385b1"
   },
   "outputs": [
    {
     "name": "stdout",
     "output_type": "stream",
     "text": [
      "(1827, 1)\n"
     ]
    },
    {
     "data": {
      "text/html": [
       "<div>\n",
       "<style scoped>\n",
       "    .dataframe tbody tr th:only-of-type {\n",
       "        vertical-align: middle;\n",
       "    }\n",
       "\n",
       "    .dataframe tbody tr th {\n",
       "        vertical-align: top;\n",
       "    }\n",
       "\n",
       "    .dataframe thead th {\n",
       "        text-align: right;\n",
       "    }\n",
       "</style>\n",
       "<table border=\"1\" class=\"dataframe\">\n",
       "  <thead>\n",
       "    <tr style=\"text-align: right;\">\n",
       "      <th></th>\n",
       "      <th>order_demand</th>\n",
       "    </tr>\n",
       "    <tr>\n",
       "      <th>date</th>\n",
       "      <th></th>\n",
       "    </tr>\n",
       "  </thead>\n",
       "  <tbody>\n",
       "    <tr>\n",
       "      <th>2012-01-01</th>\n",
       "      <td>0.0</td>\n",
       "    </tr>\n",
       "    <tr>\n",
       "      <th>2012-01-02</th>\n",
       "      <td>653950.0</td>\n",
       "    </tr>\n",
       "    <tr>\n",
       "      <th>2012-01-03</th>\n",
       "      <td>1499806.0</td>\n",
       "    </tr>\n",
       "    <tr>\n",
       "      <th>2012-01-04</th>\n",
       "      <td>626100.0</td>\n",
       "    </tr>\n",
       "    <tr>\n",
       "      <th>2012-01-05</th>\n",
       "      <td>7458199.0</td>\n",
       "    </tr>\n",
       "  </tbody>\n",
       "</table>\n",
       "</div>"
      ],
      "text/plain": [
       "            order_demand\n",
       "date                    \n",
       "2012-01-01           0.0\n",
       "2012-01-02      653950.0\n",
       "2012-01-03     1499806.0\n",
       "2012-01-04      626100.0\n",
       "2012-01-05     7458199.0"
      ]
     },
     "execution_count": 7,
     "metadata": {},
     "output_type": "execute_result"
    }
   ],
   "source": [
    "# 카테고리 19만 선택\n",
    "temp_19 = temp[[19]]\n",
    "temp_19 = temp_19.reset_index()\n",
    "\n",
    "temp_19 = temp_19.set_index('date')\n",
    "temp_19.columns = ['order_demand']\n",
    "\n",
    "print(temp_19.shape)\n",
    "temp_19.head()"
   ]
  },
  {
   "cell_type": "code",
   "execution_count": 8,
   "id": "becoming-marble",
   "metadata": {
    "id": "indoor-registration"
   },
   "outputs": [],
   "source": [
    "# train, validation data set 생성\n",
    "train_temp_19 = temp_19.loc[:'2016-06-30']\n",
    "val_temp_19 = temp_19.loc['2016-07-01':]"
   ]
  },
  {
   "cell_type": "code",
   "execution_count": 9,
   "id": "thousand-species",
   "metadata": {
    "colab": {
     "base_uri": "https://localhost:8080/",
     "height": 235
    },
    "id": "ranking-mongolia",
    "outputId": "3e12be1d-0733-4e9c-e38c-55a67f81cd17"
   },
   "outputs": [
    {
     "data": {
      "text/html": [
       "<div>\n",
       "<style scoped>\n",
       "    .dataframe tbody tr th:only-of-type {\n",
       "        vertical-align: middle;\n",
       "    }\n",
       "\n",
       "    .dataframe tbody tr th {\n",
       "        vertical-align: top;\n",
       "    }\n",
       "\n",
       "    .dataframe thead th {\n",
       "        text-align: right;\n",
       "    }\n",
       "</style>\n",
       "<table border=\"1\" class=\"dataframe\">\n",
       "  <thead>\n",
       "    <tr style=\"text-align: right;\">\n",
       "      <th></th>\n",
       "      <th>order_demand</th>\n",
       "    </tr>\n",
       "    <tr>\n",
       "      <th>date</th>\n",
       "      <th></th>\n",
       "    </tr>\n",
       "  </thead>\n",
       "  <tbody>\n",
       "    <tr>\n",
       "      <th>2016-06-26</th>\n",
       "      <td>0.0</td>\n",
       "    </tr>\n",
       "    <tr>\n",
       "      <th>2016-06-27</th>\n",
       "      <td>4581440.0</td>\n",
       "    </tr>\n",
       "    <tr>\n",
       "      <th>2016-06-28</th>\n",
       "      <td>2152456.0</td>\n",
       "    </tr>\n",
       "    <tr>\n",
       "      <th>2016-06-29</th>\n",
       "      <td>1961019.0</td>\n",
       "    </tr>\n",
       "    <tr>\n",
       "      <th>2016-06-30</th>\n",
       "      <td>5817902.0</td>\n",
       "    </tr>\n",
       "  </tbody>\n",
       "</table>\n",
       "</div>"
      ],
      "text/plain": [
       "            order_demand\n",
       "date                    \n",
       "2016-06-26           0.0\n",
       "2016-06-27     4581440.0\n",
       "2016-06-28     2152456.0\n",
       "2016-06-29     1961019.0\n",
       "2016-06-30     5817902.0"
      ]
     },
     "execution_count": 9,
     "metadata": {},
     "output_type": "execute_result"
    }
   ],
   "source": [
    "train_temp_19.tail()"
   ]
  },
  {
   "cell_type": "code",
   "execution_count": 10,
   "id": "coordinated-halifax",
   "metadata": {
    "colab": {
     "base_uri": "https://localhost:8080/",
     "height": 235
    },
    "id": "faced-recipe",
    "outputId": "d1a9a4ac-9436-47ed-f1f8-b85c06eb6b3a"
   },
   "outputs": [
    {
     "data": {
      "text/html": [
       "<div>\n",
       "<style scoped>\n",
       "    .dataframe tbody tr th:only-of-type {\n",
       "        vertical-align: middle;\n",
       "    }\n",
       "\n",
       "    .dataframe tbody tr th {\n",
       "        vertical-align: top;\n",
       "    }\n",
       "\n",
       "    .dataframe thead th {\n",
       "        text-align: right;\n",
       "    }\n",
       "</style>\n",
       "<table border=\"1\" class=\"dataframe\">\n",
       "  <thead>\n",
       "    <tr style=\"text-align: right;\">\n",
       "      <th></th>\n",
       "      <th>order_demand</th>\n",
       "    </tr>\n",
       "    <tr>\n",
       "      <th>date</th>\n",
       "      <th></th>\n",
       "    </tr>\n",
       "  </thead>\n",
       "  <tbody>\n",
       "    <tr>\n",
       "      <th>2016-07-01</th>\n",
       "      <td>3531523.0</td>\n",
       "    </tr>\n",
       "    <tr>\n",
       "      <th>2016-07-02</th>\n",
       "      <td>0.0</td>\n",
       "    </tr>\n",
       "    <tr>\n",
       "      <th>2016-07-03</th>\n",
       "      <td>0.0</td>\n",
       "    </tr>\n",
       "    <tr>\n",
       "      <th>2016-07-04</th>\n",
       "      <td>5908950.0</td>\n",
       "    </tr>\n",
       "    <tr>\n",
       "      <th>2016-07-05</th>\n",
       "      <td>3432349.0</td>\n",
       "    </tr>\n",
       "  </tbody>\n",
       "</table>\n",
       "</div>"
      ],
      "text/plain": [
       "            order_demand\n",
       "date                    \n",
       "2016-07-01     3531523.0\n",
       "2016-07-02           0.0\n",
       "2016-07-03           0.0\n",
       "2016-07-04     5908950.0\n",
       "2016-07-05     3432349.0"
      ]
     },
     "execution_count": 10,
     "metadata": {},
     "output_type": "execute_result"
    }
   ],
   "source": [
    "val_temp_19.head()"
   ]
  },
  {
   "cell_type": "markdown",
   "id": "regulated-interim",
   "metadata": {
    "id": "similar-dictionary"
   },
   "source": [
    "### 2. 모델 생성"
   ]
  },
  {
   "cell_type": "code",
   "execution_count": 11,
   "id": "objective-thinking",
   "metadata": {
    "colab": {
     "base_uri": "https://localhost:8080/"
    },
    "id": "unusual-nashville",
    "outputId": "a0028fbd-c075-4af6-b4be-1596f79e68f0"
   },
   "outputs": [
    {
     "name": "stdout",
     "output_type": "stream",
     "text": [
      "ADF Statistic: -8.961\n",
      "p-value: 0.000\n"
     ]
    }
   ],
   "source": [
    "y = train_temp_19['order_demand']\n",
    "result = adfuller(y)\n",
    "print(f'ADF Statistic: {result[0]:.3f}')\n",
    "print(f'p-value: {result[1]:.3f}')"
   ]
  },
  {
   "cell_type": "markdown",
   "id": "democratic-seeker",
   "metadata": {
    "id": "hybrid-composite"
   },
   "source": [
    "ARIMA 모델에서 필요한 파라미터 중에서 difference(차분) 값을 구하기 위해 ADF를 사용하였다."
   ]
  },
  {
   "cell_type": "code",
   "execution_count": 12,
   "id": "known-breath",
   "metadata": {
    "id": "parental-cover"
   },
   "outputs": [],
   "source": [
    "def my_auto_arima(data, order, sort = 'AIC'):\n",
    "    order_list = []\n",
    "    aic_list = []\n",
    "    bic_lsit = []\n",
    "    for p in range(order[0]):\n",
    "        for d in range(order[1]):\n",
    "            for q in range(order[2]):\n",
    "                model = ARIMA(data, order=(p,d,q))\n",
    "            try:\n",
    "                model_fit = model.fit()\n",
    "                c_order = f'p{p} d{d} q{q}'\n",
    "                aic = model_fit.aic\n",
    "                bic = model_fit.bic\n",
    "                order_list.append(c_order)\n",
    "                aic_list.append(aic)\n",
    "                bic_list.append(bic)\n",
    "            except:\n",
    "                pass\n",
    "            result_df = pd.DataFrame(list(zip(order_list, aic_list)),columns=['order','AIC'])\n",
    "            result_df.sort_values(sort, inplace=True)\n",
    "    return result_df"
   ]
  },
  {
   "cell_type": "code",
   "execution_count": 13,
   "id": "spiritual-skating",
   "metadata": {
    "colab": {
     "base_uri": "https://localhost:8080/",
     "height": 731
    },
    "id": "hawaiian-empire",
    "outputId": "82eee5fd-b24c-4bda-f426-12b26fa2f4d5"
   },
   "outputs": [
    {
     "data": {
      "text/html": [
       "<div>\n",
       "<style scoped>\n",
       "    .dataframe tbody tr th:only-of-type {\n",
       "        vertical-align: middle;\n",
       "    }\n",
       "\n",
       "    .dataframe tbody tr th {\n",
       "        vertical-align: top;\n",
       "    }\n",
       "\n",
       "    .dataframe thead th {\n",
       "        text-align: right;\n",
       "    }\n",
       "</style>\n",
       "<table border=\"1\" class=\"dataframe\">\n",
       "  <thead>\n",
       "    <tr style=\"text-align: right;\">\n",
       "      <th></th>\n",
       "      <th>order</th>\n",
       "      <th>AIC</th>\n",
       "    </tr>\n",
       "  </thead>\n",
       "  <tbody>\n",
       "    <tr>\n",
       "      <th>17</th>\n",
       "      <td>p6 d0 q2</td>\n",
       "      <td>50738.534152</td>\n",
       "    </tr>\n",
       "    <tr>\n",
       "      <th>20</th>\n",
       "      <td>p7 d0 q2</td>\n",
       "      <td>50763.660938</td>\n",
       "    </tr>\n",
       "    <tr>\n",
       "      <th>14</th>\n",
       "      <td>p5 d0 q2</td>\n",
       "      <td>50841.752523</td>\n",
       "    </tr>\n",
       "    <tr>\n",
       "      <th>22</th>\n",
       "      <td>p7 d2 q2</td>\n",
       "      <td>50854.357390</td>\n",
       "    </tr>\n",
       "    <tr>\n",
       "      <th>21</th>\n",
       "      <td>p7 d1 q2</td>\n",
       "      <td>50857.631179</td>\n",
       "    </tr>\n",
       "    <tr>\n",
       "      <th>19</th>\n",
       "      <td>p6 d2 q2</td>\n",
       "      <td>50867.406127</td>\n",
       "    </tr>\n",
       "    <tr>\n",
       "      <th>18</th>\n",
       "      <td>p6 d1 q2</td>\n",
       "      <td>50871.623393</td>\n",
       "    </tr>\n",
       "    <tr>\n",
       "      <th>15</th>\n",
       "      <td>p5 d1 q2</td>\n",
       "      <td>50926.234121</td>\n",
       "    </tr>\n",
       "    <tr>\n",
       "      <th>11</th>\n",
       "      <td>p4 d0 q2</td>\n",
       "      <td>50945.185659</td>\n",
       "    </tr>\n",
       "    <tr>\n",
       "      <th>16</th>\n",
       "      <td>p5 d2 q2</td>\n",
       "      <td>51097.792311</td>\n",
       "    </tr>\n",
       "    <tr>\n",
       "      <th>8</th>\n",
       "      <td>p3 d0 q2</td>\n",
       "      <td>51153.626283</td>\n",
       "    </tr>\n",
       "    <tr>\n",
       "      <th>12</th>\n",
       "      <td>p4 d1 q2</td>\n",
       "      <td>51175.845113</td>\n",
       "    </tr>\n",
       "    <tr>\n",
       "      <th>13</th>\n",
       "      <td>p4 d2 q2</td>\n",
       "      <td>51449.076191</td>\n",
       "    </tr>\n",
       "    <tr>\n",
       "      <th>6</th>\n",
       "      <td>p2 d1 q2</td>\n",
       "      <td>51562.685610</td>\n",
       "    </tr>\n",
       "    <tr>\n",
       "      <th>5</th>\n",
       "      <td>p2 d0 q2</td>\n",
       "      <td>51567.989890</td>\n",
       "    </tr>\n",
       "    <tr>\n",
       "      <th>3</th>\n",
       "      <td>p1 d0 q2</td>\n",
       "      <td>51593.150944</td>\n",
       "    </tr>\n",
       "    <tr>\n",
       "      <th>7</th>\n",
       "      <td>p2 d2 q2</td>\n",
       "      <td>51597.011838</td>\n",
       "    </tr>\n",
       "    <tr>\n",
       "      <th>9</th>\n",
       "      <td>p3 d1 q2</td>\n",
       "      <td>51612.025830</td>\n",
       "    </tr>\n",
       "    <tr>\n",
       "      <th>0</th>\n",
       "      <td>p0 d0 q2</td>\n",
       "      <td>51663.133058</td>\n",
       "    </tr>\n",
       "    <tr>\n",
       "      <th>4</th>\n",
       "      <td>p1 d1 q2</td>\n",
       "      <td>51698.955930</td>\n",
       "    </tr>\n",
       "    <tr>\n",
       "      <th>1</th>\n",
       "      <td>p0 d1 q2</td>\n",
       "      <td>51727.481876</td>\n",
       "    </tr>\n",
       "    <tr>\n",
       "      <th>2</th>\n",
       "      <td>p0 d2 q2</td>\n",
       "      <td>51916.242220</td>\n",
       "    </tr>\n",
       "    <tr>\n",
       "      <th>10</th>\n",
       "      <td>p3 d2 q2</td>\n",
       "      <td>52188.891474</td>\n",
       "    </tr>\n",
       "  </tbody>\n",
       "</table>\n",
       "</div>"
      ],
      "text/plain": [
       "       order           AIC\n",
       "17  p6 d0 q2  50738.534152\n",
       "20  p7 d0 q2  50763.660938\n",
       "14  p5 d0 q2  50841.752523\n",
       "22  p7 d2 q2  50854.357390\n",
       "21  p7 d1 q2  50857.631179\n",
       "19  p6 d2 q2  50867.406127\n",
       "18  p6 d1 q2  50871.623393\n",
       "15  p5 d1 q2  50926.234121\n",
       "11  p4 d0 q2  50945.185659\n",
       "16  p5 d2 q2  51097.792311\n",
       "8   p3 d0 q2  51153.626283\n",
       "12  p4 d1 q2  51175.845113\n",
       "13  p4 d2 q2  51449.076191\n",
       "6   p2 d1 q2  51562.685610\n",
       "5   p2 d0 q2  51567.989890\n",
       "3   p1 d0 q2  51593.150944\n",
       "7   p2 d2 q2  51597.011838\n",
       "9   p3 d1 q2  51612.025830\n",
       "0   p0 d0 q2  51663.133058\n",
       "4   p1 d1 q2  51698.955930\n",
       "1   p0 d1 q2  51727.481876\n",
       "2   p0 d2 q2  51916.242220\n",
       "10  p3 d2 q2  52188.891474"
      ]
     },
     "execution_count": 13,
     "metadata": {},
     "output_type": "execute_result"
    }
   ],
   "source": [
    "# 파라미터 값 찾기\n",
    "my_auto_arima(train_temp_19, [8, 3, 3])"
   ]
  },
  {
   "cell_type": "markdown",
   "id": "bridal-integrity",
   "metadata": {
    "id": "significant-problem"
   },
   "source": [
    "AIC 값이 가장 작은 조건인 6일 미뤄서, 차분을 사용하지 않고, 2일의 Moving Average를 사용하여 ARIMA 모델 생성하기로 하였다."
   ]
  },
  {
   "cell_type": "code",
   "execution_count": 14,
   "id": "occupational-breakfast",
   "metadata": {
    "colab": {
     "base_uri": "https://localhost:8080/"
    },
    "id": "judicial-radius",
    "outputId": "65f504ef-1bf8-44a0-aea2-917e9dff2344"
   },
   "outputs": [
    {
     "name": "stdout",
     "output_type": "stream",
     "text": [
      "                              ARMA Model Results                              \n",
      "==============================================================================\n",
      "Dep. Variable:           order_demand   No. Observations:                 1643\n",
      "Model:                     ARMA(6, 2)   Log Likelihood              -25463.952\n",
      "Method:                       css-mle   S.D. of innovations        1298391.743\n",
      "Date:                Thu, 08 Apr 2021   AIC                          50945.904\n",
      "Time:                        14:23:07   BIC                          50994.542\n",
      "Sample:                    01-01-2012   HQIC                         50963.941\n",
      "                         - 06-30-2016                                         \n",
      "======================================================================================\n",
      "                         coef    std err          z      P>|z|      [0.025      0.975]\n",
      "--------------------------------------------------------------------------------------\n",
      "ar.L1.order_demand     1.3828      0.021     64.442      0.000       1.341       1.425\n",
      "ar.L2.order_demand    -1.2274      0.035    -35.534      0.000      -1.295      -1.160\n",
      "ar.L3.order_demand     0.7034      0.041     17.129      0.000       0.623       0.784\n",
      "ar.L4.order_demand    -0.2951      0.044     -6.679      0.000      -0.382      -0.208\n",
      "ar.L5.order_demand     0.0210      0.040      0.527      0.598      -0.057       0.099\n",
      "ar.L6.order_demand     0.3798      0.024     15.919      0.000       0.333       0.427\n",
      "ma.L1.order_demand    -1.2149      0.013    -93.568      0.000      -1.240      -1.189\n",
      "ma.L2.order_demand     0.9640      0.016     61.800      0.000       0.933       0.995\n",
      "                                    Roots                                    \n",
      "=============================================================================\n",
      "                  Real          Imaginary           Modulus         Frequency\n",
      "-----------------------------------------------------------------------------\n",
      "AR.1            1.0153           -0.0000j            1.0153           -0.0000\n",
      "AR.2            0.6236           -0.7820j            1.0002           -0.1429\n",
      "AR.3            0.6236           +0.7820j            1.0002            0.1429\n",
      "AR.4           -0.2185           -1.1535j            1.1740           -0.2798\n",
      "AR.5           -0.2185           +1.1535j            1.1740            0.2798\n",
      "AR.6           -1.8807           -0.0000j            1.8807           -0.5000\n",
      "MA.1            0.6301           -0.8002j            1.0185           -0.1438\n",
      "MA.2            0.6301           +0.8002j            1.0185            0.1438\n",
      "-----------------------------------------------------------------------------\n"
     ]
    }
   ],
   "source": [
    "# 모델 생성\n",
    "order = (6, 0, 2)\n",
    "arima_19 = ARIMA(train_temp_19, order, freq='D')\n",
    "fit_19 = arima_19.fit(trend='nc',full_output=True, disp=1)\n",
    "\n",
    "print(fit_19.summary())"
   ]
  },
  {
   "cell_type": "markdown",
   "id": "committed-subscriber",
   "metadata": {
    "id": "central-depression"
   },
   "source": [
    "### 2. 결과 확인"
   ]
  },
  {
   "cell_type": "code",
   "execution_count": 15,
   "id": "adjacent-jimmy",
   "metadata": {
    "id": "chinese-cycling"
   },
   "outputs": [],
   "source": [
    "from sklearn.metrics import mean_absolute_error as mae\n",
    "from sklearn.metrics import mean_squared_error as mse"
   ]
  },
  {
   "cell_type": "code",
   "execution_count": 16,
   "id": "compound-robert",
   "metadata": {
    "id": "posted-infection"
   },
   "outputs": [],
   "source": [
    "preds_19 = fit_19.predict('2016-07-01', '2016-12-31', typ='levels')"
   ]
  },
  {
   "cell_type": "code",
   "execution_count": 17,
   "id": "current-albuquerque",
   "metadata": {
    "colab": {
     "base_uri": "https://localhost:8080/"
    },
    "id": "dressed-merchandise",
    "outputId": "a13dd7f3-3751-474a-d494-54e4dda9c729"
   },
   "outputs": [
    {
     "name": "stdout",
     "output_type": "stream",
     "text": [
      "2016-07-01    2.357609e+06\n",
      "2016-07-02   -5.183189e+05\n",
      "2016-07-03    1.688663e+06\n",
      "2016-07-04    3.771737e+06\n",
      "2016-07-05    2.949612e+06\n",
      "                  ...     \n",
      "2016-12-27    1.214480e+06\n",
      "2016-12-28    1.457743e+06\n",
      "2016-12-29    7.322202e+05\n",
      "2016-12-30   -4.173565e+05\n",
      "2016-12-31   -1.127153e+06\n",
      "Freq: D, Length: 184, dtype: float64\n"
     ]
    }
   ],
   "source": [
    "print(preds_19)"
   ]
  },
  {
   "cell_type": "code",
   "execution_count": 18,
   "id": "concrete-india",
   "metadata": {
    "colab": {
     "base_uri": "https://localhost:8080/"
    },
    "id": "referenced-klein",
    "outputId": "752bbc01-e3fb-467e-c0e7-4e806329e18d"
   },
   "outputs": [
    {
     "name": "stdout",
     "output_type": "stream",
     "text": [
      "mae:  1566273.075295763\n",
      "rmse:  2035642.047804613\n"
     ]
    }
   ],
   "source": [
    "print('mae: ', mae(val_temp_19['order_demand'].values, preds_19.values))\n",
    "print('rmse: ', np.sqrt(mse(val_temp_19['order_demand'].values, preds_19.values)))"
   ]
  },
  {
   "cell_type": "code",
   "execution_count": 19,
   "id": "likely-person",
   "metadata": {
    "colab": {
     "base_uri": "https://localhost:8080/",
     "height": 247
    },
    "id": "acknowledged-defense",
    "outputId": "5dcf1762-49fe-42c2-deff-f31b6a418269"
   },
   "outputs": [
    {
     "data": {
      "image/png": "[encoded data removed]",
      "text/plain": [
       "<Figure size 1440x288 with 1 Axes>"
      ]
     },
     "metadata": {
      "needs_background": "light"
     },
     "output_type": "display_data"
    }
   ],
   "source": [
    "# 예측 결과 시각화\n",
    "temp_19 = temp_19.reset_index()\n",
    "\n",
    "plt.figure(figsize=(20, 4))\n",
    "plt.plot(temp_19[temp_19['date'] >= '2016-07-01']['date'], temp_19[temp_19['date'] >= '2016-07-01']['order_demand'],label='Actual')\n",
    "plt.plot(temp_19[temp_19['date'] >= '2016-07-01']['date'], preds_19, label='Predicted')\n",
    "\n",
    "labels = [item if item[-2:] == '01' else '' for item in sorted(day_list) if ((item[:4] == '2016') and (item[5:7] >= '07'))]\n",
    "plt.xticks(temp_19[temp_19['date'] >= '2016-07-01']['date'], labels)\n",
    "\n",
    "plt.legend()\n",
    "plt.show();"
   ]
  },
  {
   "cell_type": "markdown",
   "id": "green-check",
   "metadata": {
    "id": "single-browse"
   },
   "source": [
    "위 그래프는 ARIMA를 사용하여 만든 예측 모델의 예측 결과를 시각화 한 것이다. 모델은 수요의 패턴은 유사하게 맞췄지만, 실제 수요량에서는 나타나지 않았던 우하향의 트렌드가 관찰된다."
   ]
  }
 ],
 "metadata": {
  "colab": {
   "collapsed_sections": [],
   "name": "02_ARIMA_Cap_Project_2.ipynb",
   "provenance": [],
   "toc_visible": true
  },
  "kernelspec": {
   "display_name": "Python 3",
   "language": "python",
   "name": "python3"
  },
  "language_info": {
   "codemirror_mode": {
    "name": "ipython",
    "version": 3
   },
   "file_extension": ".py",
   "mimetype": "text/x-python",
   "name": "python",
   "nbconvert_exporter": "python",
   "pygments_lexer": "ipython3",
   "version": "3.8.5"
  }
 },
 "nbformat": 4,
 "nbformat_minor": 5
}
